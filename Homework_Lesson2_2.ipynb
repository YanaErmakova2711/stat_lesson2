{
 "cells": [
  {
   "cell_type": "markdown",
   "metadata": {
    "id": "pDrecLU-4QjS"
   },
   "source": [
    "# Практика"
   ]
  },
  {
   "cell_type": "code",
   "execution_count": 1,
   "metadata": {
    "id": "a6XFMuQUG6jO"
   },
   "outputs": [],
   "source": [
    "import pandas as pd\n",
    "import numpy as np\n",
    "import matplotlib.pyplot as plt\n",
    "import scipy.stats as sts\n",
    "import math\n",
    "%matplotlib inline\n",
    "import random\n"
   ]
  },
  {
   "cell_type": "markdown",
   "metadata": {
    "id": "5owLnS0MHJnz"
   },
   "source": [
    "## ЦПТ для различных распределений\n",
    "Возьмите то непрерывное распределение, которое вам больше всего понравится из списка доступных в модуле [scipy.stats](https://docs.scipy.org/doc/scipy/reference/stats.html)."
   ]
  },
  {
   "cell_type": "code",
   "execution_count": null,
   "metadata": {},
   "outputs": [],
   "source": []
  },
  {
   "cell_type": "markdown",
   "metadata": {
    "id": "v1IvIGF9IRgH"
   },
   "source": [
    "### Сгенерируйте примеры из распределения"
   ]
  },
  {
   "cell_type": "code",
   "execution_count": 2,
   "metadata": {},
   "outputs": [
    {
     "name": "stdout",
     "output_type": "stream",
     "text": [
      "[1.25583346e+00 3.74826067e-01 8.25343038e-02 2.93368713e-02\n",
      " 6.27587097e-01 2.13793106e+00 3.73713416e-02 4.02048728e-01\n",
      " 2.43873740e-01 6.38411240e-01 3.05606540e-01 7.01845520e-02\n",
      " 9.21564168e-01 9.27494696e-01 2.32374240e+00 2.32490791e-01\n",
      " 5.99602964e-01 2.27457276e-01 1.18091431e-01 2.44642656e+00\n",
      " 1.39249292e+00 2.47299809e-01 4.63055824e-02 2.12474419e-02\n",
      " 1.29900140e-01 2.01545487e-01 1.06307796e+00 4.40158979e+00\n",
      " 8.45623253e-01 8.39020262e-01 2.67757112e-01 2.54699231e+00\n",
      " 2.05531383e-01 1.33586213e-01 5.77944987e-01 4.06809625e-01\n",
      " 3.80377685e-01 1.56965237e+00 1.31780335e+00 7.10130700e-01\n",
      " 1.17980936e+00 5.24841842e-01 5.22376888e-01 1.28424848e+00\n",
      " 2.99907528e-01 1.76646233e+00 7.74257443e-01 1.06247286e-01\n",
      " 6.67398342e-01 9.25272173e-01 2.08022022e-01 6.77526159e-01\n",
      " 4.03834986e-02 1.55530656e+00 2.11569486e+00 1.64612302e+00\n",
      " 4.42838883e-01 1.96341895e-03 4.58055456e-01 9.69925688e-01\n",
      " 3.21931016e-01 2.26674605e+00 4.80116125e-01 2.29123240e-03\n",
      " 1.29182649e-01 4.54676994e-02 9.86911647e-01 1.12573283e+00\n",
      " 6.28421849e-01 7.11600834e-01 2.47843125e+00 5.73987050e-01\n",
      " 9.01848693e-01 1.12707407e+00 2.07857506e-01 1.02913765e+00\n",
      " 6.84228994e-01 5.72218853e-02 3.05940833e+00 2.07116384e+00\n",
      " 9.23395813e-01 2.55319938e+00 1.99455705e+00 1.46334821e+00\n",
      " 5.76896790e-01 2.26411827e-01 1.77818743e+00 1.22269912e+00\n",
      " 1.43694713e+00 8.53454484e-01 2.53622125e+00 3.61693721e-01\n",
      " 1.21981674e+00 2.00276320e-01 2.57826733e+00 8.15817402e-01\n",
      " 1.03144843e+00 6.59709301e-01 4.35739312e-01 2.95025627e+00]\n"
     ]
    },
    {
     "data": {
      "text/plain": [
       "100"
      ]
     },
     "execution_count": 2,
     "metadata": {},
     "output_type": "execute_result"
    }
   ],
   "source": [
    "# ваш код тут\n",
    "expon_rv = sts.expon()\n",
    "sample_e = expon_rv.rvs(100)\n",
    "print(sample_e)\n",
    "len(sample_e)"
   ]
  },
  {
   "cell_type": "code",
   "execution_count": 3,
   "metadata": {},
   "outputs": [
    {
     "data": {
      "text/plain": [
       "dtype('float64')"
      ]
     },
     "execution_count": 3,
     "metadata": {},
     "output_type": "execute_result"
    }
   ],
   "source": [
    "sample_e.dtype"
   ]
  },
  {
   "cell_type": "code",
   "execution_count": 4,
   "metadata": {},
   "outputs": [
    {
     "data": {
      "text/plain": [
       "1.0"
      ]
     },
     "execution_count": 4,
     "metadata": {},
     "output_type": "execute_result"
    }
   ],
   "source": [
    "real_mean_e = expon_rv.mean() # настоящее среднее случайной величины\n",
    "real_mean_e"
   ]
  },
  {
   "cell_type": "code",
   "execution_count": 5,
   "metadata": {},
   "outputs": [
    {
     "data": {
      "text/plain": [
       "1.0"
      ]
     },
     "execution_count": 5,
     "metadata": {},
     "output_type": "execute_result"
    }
   ],
   "source": [
    "real_var_e = expon_rv.var() # настоящая дисперсия случайной величины\n",
    "real_var_e"
   ]
  },
  {
   "cell_type": "markdown",
   "metadata": {
    "id": "4bNn15giIX77"
   },
   "source": [
    "### Постройте гистограмму выборки и теоретическую плотность распределения"
   ]
  },
  {
   "cell_type": "code",
   "execution_count": 6,
   "metadata": {},
   "outputs": [
    {
     "data": {
      "text/plain": [
       "<matplotlib.legend.Legend at 0x1b1d4d60988>"
      ]
     },
     "execution_count": 6,
     "metadata": {},
     "output_type": "execute_result"
    },
    {
     "data": {
      "image/png": "[encoded data removed]",
      "text/plain": [
       "<Figure size 432x288 with 1 Axes>"
      ]
     },
     "metadata": {
      "needs_background": "light"
     },
     "output_type": "display_data"
    }
   ],
   "source": [
    "# ваш код тут\n",
    "plt.hist(sample_e , density=True)\n",
    "x = np.linspace(-4,4,100)\n",
    "pdf = expon_rv.pdf(x)\n",
    "plt.plot(x, pdf, label='теоретическая плотность', alpha=0.5)\n",
    "plt.legend()"
   ]
  },
  {
   "cell_type": "code",
   "execution_count": 7,
   "metadata": {},
   "outputs": [
    {
     "name": "stdout",
     "output_type": "stream",
     "text": [
      "0.9218086942056971\n",
      "0.7167320724758443\n",
      "0.846600302666993\n"
     ]
    }
   ],
   "source": [
    "sample_mean = sample_e.mean() # выборочное среднее\n",
    "print(sample_mean)\n",
    "sample_var = sample_e.var() # выборочная дисперсия\n",
    "print(sample_var)\n",
    "sample_std = sample_e.std() # выборочное стандартное отклонение\n",
    "print(sample_std)"
   ]
  },
  {
   "cell_type": "code",
   "execution_count": 8,
   "metadata": {},
   "outputs": [],
   "source": [
    "N = 1000\n",
    "# сгенерируем много выборочных средних\n",
    "means = []\n",
    "for i in range(1000):\n",
    "    means.append(np.mean(expon_rv.rvs(N)))"
   ]
  },
  {
   "cell_type": "code",
   "execution_count": 31,
   "metadata": {},
   "outputs": [],
   "source": [
    "means=np.array(means)\n"
   ]
  },
  {
   "cell_type": "code",
   "execution_count": 19,
   "metadata": {},
   "outputs": [],
   "source": [
    "norm_rv=sts.norm(means.mean(),means.std())"
   ]
  },
  {
   "cell_type": "code",
   "execution_count": 20,
   "metadata": {},
   "outputs": [],
   "source": [
    "x = np.linspace(0.9,1.1, 100)"
   ]
  },
  {
   "cell_type": "code",
   "execution_count": 22,
   "metadata": {},
   "outputs": [
    {
     "data": {
      "text/plain": [
       "<matplotlib.legend.Legend at 0x1b1d65c3a48>"
      ]
     },
     "execution_count": 22,
     "metadata": {},
     "output_type": "execute_result"
    },
    {
     "data": {
      "image/png": "[encoded data removed]",
      "text/plain": [
       "<Figure size 432x288 with 1 Axes>"
      ]
     },
     "metadata": {
      "needs_background": "light"
     },
     "output_type": "display_data"
    }
   ],
   "source": [
    "plt.hist(means, density=True)\n",
    "pdf = norm_rv.pdf(x)\n",
    "plt.plot(x,pdf, label='Теоретическая плотность', alpha=0.5)\n",
    "plt.legend()"
   ]
  },
  {
   "cell_type": "markdown",
   "metadata": {
    "id": "qPuHR68NId_Z"
   },
   "source": [
    "### Оценим распределение выборочного среднего для разных объёмов выборок\n",
    "Для этого постройте на одном полотне гистограмму выборочных средних и теоретическое распределение выборочных средних по ЦПТ для разных объёмов выборок.\n",
    "\n",
    "Для теоретического распределение используйте настоящие значения мат ожидания и дисперсии (не приближенные на основе выборки)."
   ]
  },
  {
   "cell_type": "code",
   "execution_count": 36,
   "metadata": {},
   "outputs": [],
   "source": [
    "x = np.linspace(0.25,1.85, 1000)"
   ]
  },
  {
   "cell_type": "code",
   "execution_count": 37,
   "metadata": {},
   "outputs": [
    {
     "data": {
      "image/png": "[encoded data removed]",
      "text/plain": [
       "<Figure size 1152x648 with 1 Axes>"
      ]
     },
     "metadata": {
      "needs_background": "light"
     },
     "output_type": "display_data"
    }
   ],
   "source": [
    "# ваш код тут\n",
    "plt.figure(figsize=(16,9))\n",
    "# сгенерируем много выборочных средних\n",
    "for N in [10, 100, 1000, 10000]:\n",
    "    means = []\n",
    "    \n",
    "    for i in range(1000):\n",
    "        means.append(np.mean(expon_rv.rvs(N)))\n",
    "    means=np.array(means)\n",
    "    plt.hist(means, density=True,alpha=0.5)\n",
    "    norm_rv=sts.norm(means.mean(),means.std())\n",
    "    pdf = norm_rv.pdf(x)\n",
    "    plt.plot(x,pdf, label='Теоретическая плотность')\n",
    "\n",
    "plt.legend(['10', '100', '1000', '10000'])\n",
    "plt.show()"
   ]
  },
  {
   "cell_type": "code",
   "execution_count": null,
   "metadata": {},
   "outputs": [],
   "source": []
  },
  {
   "cell_type": "markdown",
   "metadata": {
    "id": "TF1onBy_J7sX"
   },
   "source": [
    "Как вы считаете, для выбранного распределения апроксимация распределения выборочного среднего работает хорошо или плохо?\n",
    "**Ваш ответ:**"
   ]
  },
  {
   "cell_type": "code",
   "execution_count": null,
   "metadata": {},
   "outputs": [],
   "source": [
    "#Для выбранного распределения f(x)=exp(-x) аппроксимация выборочного среднего работает хорошо. При генераций выборочных\n",
    "# средних  при разных N(количестве элементов в выборке) мы получаем нормальное распределение,\n",
    "#что проиллюстрировано на графике выше."
   ]
  },
  {
   "cell_type": "markdown",
   "metadata": {
    "id": "xEyWxfjSfxGp"
   },
   "source": [
    "## Доверительный интервал на основе ЦПТ\n",
    "Возьмите данные для оттока телеком компании, и постройте доверительные интервалы для среднего значения total day calls, используя центральную предельную теорему в разбиении по колонке churn (ушел/не ушел). \n",
    "\n",
    "Для оценки дисперсии используйте несмещенную оценку (параметр ddof=1).\n",
    "\n",
    "Сделайте оценку с использованием явной формулы для z интервала, а затем с помощью функций \n",
    "`from statsmodels.stats.weightstats import _zconfint_generic`. Сравните результаты.\n",
    "\n",
    "\n",
    "Ссылка на данные: https://drive.google.com/file/d/1X_drKqoarnU2Sz2har7uSCsgyhh8Xtz8/view?usp=sharing"
   ]
  },
  {
   "cell_type": "code",
   "execution_count": null,
   "metadata": {},
   "outputs": [],
   "source": [
    "#число степеней свободы=1. Рассчитать дисперсию для оценки  z  интервала."
   ]
  },
  {
   "cell_type": "code",
   "execution_count": 22,
   "metadata": {},
   "outputs": [
    {
     "data": {
      "text/html": [
       "<div>\n",
       "<style scoped>\n",
       "    .dataframe tbody tr th:only-of-type {\n",
       "        vertical-align: middle;\n",
       "    }\n",
       "\n",
       "    .dataframe tbody tr th {\n",
       "        vertical-align: top;\n",
       "    }\n",
       "\n",
       "    .dataframe thead th {\n",
       "        text-align: right;\n",
       "    }\n",
       "</style>\n",
       "<table border=\"1\" class=\"dataframe\">\n",
       "  <thead>\n",
       "    <tr style=\"text-align: right;\">\n",
       "      <th></th>\n",
       "      <th>state</th>\n",
       "      <th>account length</th>\n",
       "      <th>area code</th>\n",
       "      <th>phone number</th>\n",
       "      <th>international plan</th>\n",
       "      <th>voice mail plan</th>\n",
       "      <th>number vmail messages</th>\n",
       "      <th>total day minutes</th>\n",
       "      <th>total day calls</th>\n",
       "      <th>total day charge</th>\n",
       "      <th>...</th>\n",
       "      <th>total eve calls</th>\n",
       "      <th>total eve charge</th>\n",
       "      <th>total night minutes</th>\n",
       "      <th>total night calls</th>\n",
       "      <th>total night charge</th>\n",
       "      <th>total intl minutes</th>\n",
       "      <th>total intl calls</th>\n",
       "      <th>total intl charge</th>\n",
       "      <th>customer service calls</th>\n",
       "      <th>churn</th>\n",
       "    </tr>\n",
       "  </thead>\n",
       "  <tbody>\n",
       "    <tr>\n",
       "      <td>0</td>\n",
       "      <td>KS</td>\n",
       "      <td>128</td>\n",
       "      <td>415</td>\n",
       "      <td>382-4657</td>\n",
       "      <td>no</td>\n",
       "      <td>yes</td>\n",
       "      <td>25</td>\n",
       "      <td>265.1</td>\n",
       "      <td>110</td>\n",
       "      <td>45.07</td>\n",
       "      <td>...</td>\n",
       "      <td>99</td>\n",
       "      <td>16.78</td>\n",
       "      <td>244.7</td>\n",
       "      <td>91</td>\n",
       "      <td>11.01</td>\n",
       "      <td>10.0</td>\n",
       "      <td>3</td>\n",
       "      <td>2.70</td>\n",
       "      <td>1</td>\n",
       "      <td>False</td>\n",
       "    </tr>\n",
       "    <tr>\n",
       "      <td>1</td>\n",
       "      <td>OH</td>\n",
       "      <td>107</td>\n",
       "      <td>415</td>\n",
       "      <td>371-7191</td>\n",
       "      <td>no</td>\n",
       "      <td>yes</td>\n",
       "      <td>26</td>\n",
       "      <td>161.6</td>\n",
       "      <td>123</td>\n",
       "      <td>27.47</td>\n",
       "      <td>...</td>\n",
       "      <td>103</td>\n",
       "      <td>16.62</td>\n",
       "      <td>254.4</td>\n",
       "      <td>103</td>\n",
       "      <td>11.45</td>\n",
       "      <td>13.7</td>\n",
       "      <td>3</td>\n",
       "      <td>3.70</td>\n",
       "      <td>1</td>\n",
       "      <td>False</td>\n",
       "    </tr>\n",
       "    <tr>\n",
       "      <td>2</td>\n",
       "      <td>NJ</td>\n",
       "      <td>137</td>\n",
       "      <td>415</td>\n",
       "      <td>358-1921</td>\n",
       "      <td>no</td>\n",
       "      <td>no</td>\n",
       "      <td>0</td>\n",
       "      <td>243.4</td>\n",
       "      <td>114</td>\n",
       "      <td>41.38</td>\n",
       "      <td>...</td>\n",
       "      <td>110</td>\n",
       "      <td>10.30</td>\n",
       "      <td>162.6</td>\n",
       "      <td>104</td>\n",
       "      <td>7.32</td>\n",
       "      <td>12.2</td>\n",
       "      <td>5</td>\n",
       "      <td>3.29</td>\n",
       "      <td>0</td>\n",
       "      <td>False</td>\n",
       "    </tr>\n",
       "    <tr>\n",
       "      <td>3</td>\n",
       "      <td>OH</td>\n",
       "      <td>84</td>\n",
       "      <td>408</td>\n",
       "      <td>375-9999</td>\n",
       "      <td>yes</td>\n",
       "      <td>no</td>\n",
       "      <td>0</td>\n",
       "      <td>299.4</td>\n",
       "      <td>71</td>\n",
       "      <td>50.90</td>\n",
       "      <td>...</td>\n",
       "      <td>88</td>\n",
       "      <td>5.26</td>\n",
       "      <td>196.9</td>\n",
       "      <td>89</td>\n",
       "      <td>8.86</td>\n",
       "      <td>6.6</td>\n",
       "      <td>7</td>\n",
       "      <td>1.78</td>\n",
       "      <td>2</td>\n",
       "      <td>False</td>\n",
       "    </tr>\n",
       "    <tr>\n",
       "      <td>4</td>\n",
       "      <td>OK</td>\n",
       "      <td>75</td>\n",
       "      <td>415</td>\n",
       "      <td>330-6626</td>\n",
       "      <td>yes</td>\n",
       "      <td>no</td>\n",
       "      <td>0</td>\n",
       "      <td>166.7</td>\n",
       "      <td>113</td>\n",
       "      <td>28.34</td>\n",
       "      <td>...</td>\n",
       "      <td>122</td>\n",
       "      <td>12.61</td>\n",
       "      <td>186.9</td>\n",
       "      <td>121</td>\n",
       "      <td>8.41</td>\n",
       "      <td>10.1</td>\n",
       "      <td>3</td>\n",
       "      <td>2.73</td>\n",
       "      <td>3</td>\n",
       "      <td>False</td>\n",
       "    </tr>\n",
       "  </tbody>\n",
       "</table>\n",
       "<p>5 rows × 21 columns</p>\n",
       "</div>"
      ],
      "text/plain": [
       "  state  account length  area code phone number international plan  \\\n",
       "0    KS             128        415     382-4657                 no   \n",
       "1    OH             107        415     371-7191                 no   \n",
       "2    NJ             137        415     358-1921                 no   \n",
       "3    OH              84        408     375-9999                yes   \n",
       "4    OK              75        415     330-6626                yes   \n",
       "\n",
       "  voice mail plan  number vmail messages  total day minutes  total day calls  \\\n",
       "0             yes                     25              265.1              110   \n",
       "1             yes                     26              161.6              123   \n",
       "2              no                      0              243.4              114   \n",
       "3              no                      0              299.4               71   \n",
       "4              no                      0              166.7              113   \n",
       "\n",
       "   total day charge  ...  total eve calls  total eve charge  \\\n",
       "0             45.07  ...               99             16.78   \n",
       "1             27.47  ...              103             16.62   \n",
       "2             41.38  ...              110             10.30   \n",
       "3             50.90  ...               88              5.26   \n",
       "4             28.34  ...              122             12.61   \n",
       "\n",
       "   total night minutes  total night calls  total night charge  \\\n",
       "0                244.7                 91               11.01   \n",
       "1                254.4                103               11.45   \n",
       "2                162.6                104                7.32   \n",
       "3                196.9                 89                8.86   \n",
       "4                186.9                121                8.41   \n",
       "\n",
       "   total intl minutes  total intl calls  total intl charge  \\\n",
       "0                10.0                 3               2.70   \n",
       "1                13.7                 3               3.70   \n",
       "2                12.2                 5               3.29   \n",
       "3                 6.6                 7               1.78   \n",
       "4                10.1                 3               2.73   \n",
       "\n",
       "   customer service calls  churn  \n",
       "0                       1  False  \n",
       "1                       1  False  \n",
       "2                       0  False  \n",
       "3                       2  False  \n",
       "4                       3  False  \n",
       "\n",
       "[5 rows x 21 columns]"
      ]
     },
     "execution_count": 22,
     "metadata": {},
     "output_type": "execute_result"
    }
   ],
   "source": [
    "df = pd.read_csv('telecom_churn.csv',  sep=',')\n",
    "df.head()"
   ]
  },
  {
   "cell_type": "code",
   "execution_count": 23,
   "metadata": {},
   "outputs": [
    {
     "data": {
      "text/html": [
       "<div>\n",
       "<style scoped>\n",
       "    .dataframe tbody tr th:only-of-type {\n",
       "        vertical-align: middle;\n",
       "    }\n",
       "\n",
       "    .dataframe tbody tr th {\n",
       "        vertical-align: top;\n",
       "    }\n",
       "\n",
       "    .dataframe thead th {\n",
       "        text-align: right;\n",
       "    }\n",
       "</style>\n",
       "<table border=\"1\" class=\"dataframe\">\n",
       "  <thead>\n",
       "    <tr style=\"text-align: right;\">\n",
       "      <th></th>\n",
       "      <th>total day calls</th>\n",
       "      <th>churn</th>\n",
       "    </tr>\n",
       "  </thead>\n",
       "  <tbody>\n",
       "    <tr>\n",
       "      <td>0</td>\n",
       "      <td>110</td>\n",
       "      <td>False</td>\n",
       "    </tr>\n",
       "    <tr>\n",
       "      <td>1</td>\n",
       "      <td>123</td>\n",
       "      <td>False</td>\n",
       "    </tr>\n",
       "    <tr>\n",
       "      <td>2</td>\n",
       "      <td>114</td>\n",
       "      <td>False</td>\n",
       "    </tr>\n",
       "    <tr>\n",
       "      <td>3</td>\n",
       "      <td>71</td>\n",
       "      <td>False</td>\n",
       "    </tr>\n",
       "    <tr>\n",
       "      <td>4</td>\n",
       "      <td>113</td>\n",
       "      <td>False</td>\n",
       "    </tr>\n",
       "  </tbody>\n",
       "</table>\n",
       "</div>"
      ],
      "text/plain": [
       "   total day calls  churn\n",
       "0              110  False\n",
       "1              123  False\n",
       "2              114  False\n",
       "3               71  False\n",
       "4              113  False"
      ]
     },
     "execution_count": 23,
     "metadata": {},
     "output_type": "execute_result"
    }
   ],
   "source": [
    "df1=df[['total day calls','churn']]\n",
    "df1.head()"
   ]
  },
  {
   "cell_type": "code",
   "execution_count": null,
   "metadata": {},
   "outputs": [],
   "source": [
    "#I.I\n",
    "#Построим доверительные интервалы для среднего значения total day calls, используя центральную предельную теорему \n",
    "# колонке churn (False)"
   ]
  },
  {
   "cell_type": "code",
   "execution_count": 24,
   "metadata": {},
   "outputs": [
    {
     "name": "stdout",
     "output_type": "stream",
     "text": [
      "0    110\n",
      "1    123\n",
      "2    114\n",
      "3     71\n",
      "4    113\n",
      "Name: total day calls, dtype: int64\n"
     ]
    },
    {
     "data": {
      "text/plain": [
       "2850"
      ]
     },
     "execution_count": 24,
     "metadata": {},
     "output_type": "execute_result"
    }
   ],
   "source": [
    "df_False=df1[df1.churn==False]\n",
    "df_False=df_False['total day calls']\n",
    "print(df_False.head())\n",
    "len(df_False)"
   ]
  },
  {
   "cell_type": "code",
   "execution_count": 25,
   "metadata": {},
   "outputs": [
    {
     "name": "stdout",
     "output_type": "stream",
     "text": [
      "100.28315789473685 19.801156951805503 392.08581663003537\n"
     ]
    }
   ],
   "source": [
    "print(df_False.mean(),df_False.std(),df_False.var(ddof=1))"
   ]
  },
  {
   "cell_type": "code",
   "execution_count": 26,
   "metadata": {},
   "outputs": [
    {
     "data": {
      "text/plain": [
       "array([110, 123, 114, ..., 109, 105, 113], dtype=int64)"
      ]
     },
     "execution_count": 26,
     "metadata": {},
     "output_type": "execute_result"
    }
   ],
   "source": [
    "df_False=np.array(df_False)\n",
    "df_False"
   ]
  },
  {
   "cell_type": "code",
   "execution_count": 71,
   "metadata": {},
   "outputs": [
    {
     "name": "stdout",
     "output_type": "stream",
     "text": [
      "Для N= 10 ДИ 94.0271 ... 118.5729\n",
      "Для N= 50 ДИ 97.8514 ... 108.8286\n",
      "Для N= 100 ДИ 97.7490 ... 105.5110\n",
      "Для N= 1000 ДИ 98.2457 ... 100.7003\n"
     ]
    }
   ],
   "source": [
    "#I способ расчета\n",
    "#Рассчитаем  доверительные интервалы для среднего значения по явной формуле. Пусть в эксперементе приняло участие  \n",
    "#N наблюдений, выбранные случайным образом из  df_False,где  N <=числа элементов  df_False\n",
    "mu =df_False.mean()\n",
    "sigma = df_False.std(ddof=1)\n",
    "norm_rv = sts.norm(mu, sigma)\n",
    "N = [10, 50, 100, 1000] # N наблюдений, выбранные случайным образом из  df_False\n",
    "alpha = 0.05\n",
    "for n in N:\n",
    "    samples = np.random.choice(df_False,n,replace=False) # выбор случайным обр . N <=числа элементов  df_False (replace=False)\n",
    "    pdf = norm_rv.pdf(samples)                            \n",
    "    se=sigma/math.sqrt(n) #для построения 95% доверительного интервала  рассчитаем стандартную ошибку среднего\n",
    "    print(\"Для N= %.f ДИ %.4f ... %.4f\" % (n,samples.mean() - 1.96*se , samples.mean() + 1.96*se ))"
   ]
  },
  {
   "cell_type": "code",
   "execution_count": 41,
   "metadata": {},
   "outputs": [
    {
     "name": "stdout",
     "output_type": "stream",
     "text": [
      "100.0271157702604 124.5728842297396\n"
     ]
    },
    {
     "data": {
      "image/png": "[encoded data removed]",
      "text/plain": [
       "<Figure size 576x216 with 1 Axes>"
      ]
     },
     "metadata": {
      "needs_background": "light"
     },
     "output_type": "display_data"
    }
   ],
   "source": [
    "#II способ расчета c построением доверительных интервалов для среднего значения total day calls\n",
    "#Рассчитаем  доверительный интервал для среднего значения total day calls по явной формуле. Пусть в эксперементе приняло участие  \n",
    "#N наблюдений, выбранные случайным образом из  df_False,где  N <=числа элементов  df_False\n",
    "\n",
    "plt.figure(figsize=(8, 3))\n",
    "plt.hist(df_False, density=True, bins='auto')\n",
    "x=np.linspace(np.min(df_False),np.max(df_False),100)\n",
    "plt.plot(x,norm_rv.pdf(x))\n",
    "N = [10]\n",
    "\n",
    "for n in N:\n",
    "    samples = np.random.choice(df_False,n,replace=False)\n",
    "    plt.vlines(samples.mean(),0,0.02)\n",
    "    se=sigma/sqrt(n)\n",
    "    xl=samples.mean() - 1.96*se\n",
    "    xr=samples.mean() + 1.96*se \n",
    "    print(xl,xr) \n",
    "    plt.vlines(xl, 0, 0.02, color='r', lw=1)\n",
    "    plt.vlines(xr,0, 0.02, color='r', lw=1)"
   ]
  },
  {
   "cell_type": "code",
   "execution_count": 42,
   "metadata": {},
   "outputs": [
    {
     "name": "stdout",
     "output_type": "stream",
     "text": [
      "92.41139931646342 103.3886006835366\n"
     ]
    },
    {
     "data": {
      "image/png": "[encoded data removed]",
      "text/plain": [
       "<Figure size 576x216 with 1 Axes>"
      ]
     },
     "metadata": {
      "needs_background": "light"
     },
     "output_type": "display_data"
    }
   ],
   "source": [
    "plt.figure(figsize=(8, 3))\n",
    "plt.hist(df_False, density=True, bins='auto')\n",
    "x=np.linspace(np.min(df_False),np.max(df_False),100)\n",
    "plt.plot(x,norm_rv.pdf(x))\n",
    "N = [50]\n",
    "\n",
    "for n in N:\n",
    "    samples = np.random.choice(df_False,n,replace=False)\n",
    "    plt.vlines(samples.mean(),0,0.02)\n",
    "    se=sigma/sqrt(n)\n",
    "    xl=samples.mean() - 1.96*se\n",
    "    xr=samples.mean() + 1.96*se \n",
    "    print(xl,xr) \n",
    "    plt.vlines(xl, 0, 0.02, color='r', lw=1)\n",
    "    plt.vlines(xr,0, 0.02, color='r', lw=1)"
   ]
  },
  {
   "cell_type": "code",
   "execution_count": 43,
   "metadata": {},
   "outputs": [
    {
     "name": "stdout",
     "output_type": "stream",
     "text": [
      "98.08897323744617 105.85102676255383\n"
     ]
    },
    {
     "data": {
      "image/png": "[encoded data removed]",
      "text/plain": [
       "<Figure size 576x216 with 1 Axes>"
      ]
     },
     "metadata": {
      "needs_background": "light"
     },
     "output_type": "display_data"
    }
   ],
   "source": [
    "plt.figure(figsize=(8, 3))\n",
    "plt.hist(df_False, density=True, bins='auto')\n",
    "x=np.linspace(np.min(df_False),np.max(df_False),100)\n",
    "plt.plot(x,norm_rv.pdf(x))\n",
    "N = [100]\n",
    "\n",
    "for n in N:\n",
    "    samples = np.random.choice(df_False,n,replace=False)\n",
    "    plt.vlines(samples.mean(),0,0.02)\n",
    "    se=sigma/sqrt(n)\n",
    "    xl=samples.mean() - 1.96*se\n",
    "    xr=samples.mean() + 1.96*se \n",
    "    print(xl,xr) \n",
    "    plt.vlines(xl, 0, 0.02, color='r', lw=1)\n",
    "    plt.vlines(xr,0, 0.02, color='r', lw=1)"
   ]
  },
  {
   "cell_type": "code",
   "execution_count": 69,
   "metadata": {},
   "outputs": [
    {
     "name": "stdout",
     "output_type": "stream",
     "text": [
      "98.62631474008593 101.30168525991407\n"
     ]
    },
    {
     "data": {
      "image/png": "[encoded data removed]",
      "text/plain": [
       "<Figure size 576x216 with 1 Axes>"
      ]
     },
     "metadata": {
      "needs_background": "light"
     },
     "output_type": "display_data"
    }
   ],
   "source": [
    "plt.figure(figsize=(8, 3))\n",
    "plt.hist(df_False, density=True, bins='auto')\n",
    "x=np.linspace(np.min(df_False),np.max(df_False),100)\n",
    "plt.plot(x,norm_rv.pdf(x))\n",
    "N = [1000]\n",
    "\n",
    "for n in N:\n",
    "    samples = np.random.choice(df_False,n,replace=False)\n",
    "    plt.vlines(samples.mean(),0,0.02)\n",
    "    se=sigma/sqrt(n)\n",
    "    xl=samples.mean() - 1.96*se\n",
    "    xr=samples.mean() + 1.96*se \n",
    "    print(xl,xr) \n",
    "    plt.vlines(xl, 0, 0.02, color='r', lw=1)\n",
    "    plt.vlines(xr,0, 0.02, color='r', lw=1)"
   ]
  },
  {
   "cell_type": "code",
   "execution_count": null,
   "metadata": {},
   "outputs": [],
   "source": [
    "#I.II\n",
    "#Построим доверительные интервалы для среднего значения total day calls, используя центральную предельную теорему \n",
    "# колонке churn (True)"
   ]
  },
  {
   "cell_type": "code",
   "execution_count": 54,
   "metadata": {},
   "outputs": [
    {
     "name": "stdout",
     "output_type": "stream",
     "text": [
      "10    137\n",
      "15     67\n",
      "21     89\n",
      "33    118\n",
      "41     85\n",
      "Name: total day calls, dtype: int64\n"
     ]
    },
    {
     "data": {
      "text/plain": [
       "483"
      ]
     },
     "execution_count": 54,
     "metadata": {},
     "output_type": "execute_result"
    }
   ],
   "source": [
    "df_True=df1[df1.churn==True]\n",
    "df_True=df_True['total day calls']\n",
    "print(df_True.head())\n",
    "len(df_True)"
   ]
  },
  {
   "cell_type": "code",
   "execution_count": 51,
   "metadata": {},
   "outputs": [
    {
     "name": "stdout",
     "output_type": "stream",
     "text": [
      "101.33540372670808 21.58230721307551 465.79598463957115\n"
     ]
    }
   ],
   "source": [
    "print(df_True.mean(),df_True.std(),df_True.var(ddof=1))"
   ]
  },
  {
   "cell_type": "code",
   "execution_count": 52,
   "metadata": {},
   "outputs": [
    {
     "data": {
      "text/plain": [
       "array([110, 123, 114, ..., 109, 105, 113], dtype=int64)"
      ]
     },
     "execution_count": 52,
     "metadata": {},
     "output_type": "execute_result"
    }
   ],
   "source": [
    "df_True=np.array(df_False)\n",
    "df_True"
   ]
  },
  {
   "cell_type": "code",
   "execution_count": 71,
   "metadata": {},
   "outputs": [
    {
     "name": "stdout",
     "output_type": "stream",
     "text": [
      "Для N= 10 ДИ 93.9231 ... 120.6769\n",
      "Для N= 50 ДИ 95.6377 ... 107.6023\n",
      "Для N= 100 ДИ 98.8699 ... 107.3301\n",
      "Для N= 400 ДИ 99.7474 ... 103.9776\n"
     ]
    }
   ],
   "source": [
    "#I способ расчета\n",
    "#Рассчитаем  доверительные интервалы для среднего значения по явной формуле. Пусть в эксперементе приняло участие  \n",
    "#N наблюдений, выбранные случайным образом из  df_True\n",
    "mu =df_True.mean()\n",
    "sigma = df_True.std(ddof=1)\n",
    "norm_rv = sts.norm(mu, sigma)\n",
    "N = [10, 50, 100, 400] # N наблюдений, выбранные случайным образом из  df_True\n",
    "alpha = 0.05\n",
    "for n in N:\n",
    "    samples = np.random.choice(df_True,n,replace=False) # выбор случайным обр . N <=числа элементов  df_True\n",
    "    pdf = norm_rv.pdf(samples)                            \n",
    "    se=sigma/sqrt(n) #для построения 95% доверительного интервала  рассчитаем стандартную ошибку среднего\n",
    "    print(\"Для N= %.f ДИ %.4f ... %.4f\" % (n,samples.mean() - 1.96*se , samples.mean() + 1.96*se ))"
   ]
  },
  {
   "cell_type": "code",
   "execution_count": 58,
   "metadata": {},
   "outputs": [
    {
     "name": "stdout",
     "output_type": "stream",
     "text": [
      "88.72314740085929 115.4768525991407\n"
     ]
    },
    {
     "data": {
      "image/png": "[encoded data removed]",
      "text/plain": [
       "<Figure size 576x216 with 1 Axes>"
      ]
     },
     "metadata": {
      "needs_background": "light"
     },
     "output_type": "display_data"
    }
   ],
   "source": [
    "#II способ расчета c построением доверительных интервалов для среднего значения total day calls\n",
    "#Рассчитаем  доверительный интервал для среднего значения total day calls по явной формуле. Пусть в эксперементе приняло участие  \n",
    "#N наблюдений, выбранные случайным образом из  df_True,где  N <=числа элементов  df_True\n",
    "\n",
    "plt.figure(figsize=(8, 3))\n",
    "plt.hist(df_False, density=True, bins='auto')\n",
    "x=np.linspace(np.min(df_True),np.max(df_True),100)\n",
    "plt.plot(x,norm_rv.pdf(x))\n",
    "N = [10]\n",
    "\n",
    "for n in N:\n",
    "    samples = np.random.choice(df_True,n,replace=False)\n",
    "    plt.vlines(samples.mean(),0,0.02)\n",
    "    se=sigma/sqrt(n)\n",
    "    xl=samples.mean() - 1.96*se\n",
    "    xr=samples.mean() + 1.96*se \n",
    "    print(xl,xr) \n",
    "    plt.vlines(xl, 0, 0.02, color='r', lw=1)\n",
    "    plt.vlines(xr,0, 0.02, color='r', lw=1)"
   ]
  },
  {
   "cell_type": "code",
   "execution_count": 72,
   "metadata": {},
   "outputs": [
    {
     "name": "stdout",
     "output_type": "stream",
     "text": [
      "93.27768965266533 105.24231034733468\n"
     ]
    },
    {
     "data": {
      "image/png": "[encoded data removed]",
      "text/plain": [
       "<Figure size 576x216 with 1 Axes>"
      ]
     },
     "metadata": {
      "needs_background": "light"
     },
     "output_type": "display_data"
    }
   ],
   "source": [
    "plt.figure(figsize=(8, 3))\n",
    "plt.hist(df_False, density=True, bins='auto')\n",
    "x=np.linspace(np.min(df_True),np.max(df_True),100)\n",
    "plt.plot(x,norm_rv.pdf(x))\n",
    "N = [50]\n",
    "\n",
    "for n in N:\n",
    "    samples = np.random.choice(df_True,n,replace=False)\n",
    "    plt.vlines(samples.mean(),0,0.02)\n",
    "    se=sigma/sqrt(n)\n",
    "    xl=samples.mean() - 1.96*se\n",
    "    xr=samples.mean() + 1.96*se \n",
    "    print(xl,xr) \n",
    "    plt.vlines(xl, 0, 0.02, color='r', lw=1)\n",
    "    plt.vlines(xr,0, 0.02, color='r', lw=1)"
   ]
  },
  {
   "cell_type": "code",
   "execution_count": 73,
   "metadata": {},
   "outputs": [
    {
     "name": "stdout",
     "output_type": "stream",
     "text": [
      "98.4498677862372 106.91013221376281\n"
     ]
    },
    {
     "data": {
      "image/png": "[encoded data removed]",
      "text/plain": [
       "<Figure size 576x216 with 1 Axes>"
      ]
     },
     "metadata": {
      "needs_background": "light"
     },
     "output_type": "display_data"
    }
   ],
   "source": [
    "plt.figure(figsize=(8, 3))\n",
    "plt.hist(df_False, density=True, bins='auto')\n",
    "x=np.linspace(np.min(df_True),np.max(df_True),100)\n",
    "plt.plot(x,norm_rv.pdf(x))\n",
    "N = [100]\n",
    "\n",
    "for n in N:\n",
    "    samples = np.random.choice(df_True,n,replace=False)\n",
    "    plt.vlines(samples.mean(),0,0.02)\n",
    "    se=sigma/sqrt(n)\n",
    "    xl=samples.mean() - 1.96*se\n",
    "    xr=samples.mean() + 1.96*se \n",
    "    print(xl,xr) \n",
    "    plt.vlines(xl, 0, 0.02, color='r', lw=1)\n",
    "    plt.vlines(xr,0, 0.02, color='r', lw=1)"
   ]
  },
  {
   "cell_type": "code",
   "execution_count": 74,
   "metadata": {},
   "outputs": [
    {
     "name": "stdout",
     "output_type": "stream",
     "text": [
      "99.7249338931186 103.9550661068814\n"
     ]
    },
    {
     "data": {
      "image/png": "[encoded data removed]",
      "text/plain": [
       "<Figure size 576x216 with 1 Axes>"
      ]
     },
     "metadata": {
      "needs_background": "light"
     },
     "output_type": "display_data"
    }
   ],
   "source": [
    "plt.figure(figsize=(8, 3))\n",
    "plt.hist(df_False, density=True, bins='auto')\n",
    "x=np.linspace(np.min(df_True),np.max(df_True),100)\n",
    "plt.plot(x,norm_rv.pdf(x))\n",
    "N = [400]\n",
    "\n",
    "for n in N:\n",
    "    samples = np.random.choice(df_True,n,replace=False)\n",
    "    plt.vlines(samples.mean(),0,0.02)\n",
    "    se=sigma/sqrt(n)\n",
    "    xl=samples.mean() - 1.96*se\n",
    "    xr=samples.mean() + 1.96*se \n",
    "    print(xl,xr) \n",
    "    plt.vlines(xl, 0, 0.02, color='r', lw=1)\n",
    "    plt.vlines(xr,0, 0.02, color='r', lw=1)"
   ]
  },
  {
   "cell_type": "code",
   "execution_count": null,
   "metadata": {},
   "outputs": [],
   "source": []
  },
  {
   "cell_type": "code",
   "execution_count": null,
   "metadata": {},
   "outputs": [],
   "source": []
  },
  {
   "cell_type": "code",
   "execution_count": null,
   "metadata": {},
   "outputs": [],
   "source": [
    "#Сделайте оценку с использованием явной формулы для z интервала, а затем с помощью функций \n",
    "#from statsmodels.stats.weightstats import _zconfint_generic. Сравните результаты."
   ]
  },
  {
   "cell_type": "code",
   "execution_count": null,
   "metadata": {},
   "outputs": [],
   "source": [
    "II. Сделаем оценку с использованием явной формулы для z интервала z=(x_b-mu)/sigma  \n"
   ]
  },
  {
   "cell_type": "code",
   "execution_count": null,
   "metadata": {},
   "outputs": [],
   "source": [
    "#II.I  Для df_False\n",
    "z=(x_b_sr-df_False.mean())/df_False.std\n",
    "x_b_r=df_False.mean()+z*df_False.std\n",
    "x_b_l=df_False.mean()-z*df_False.std"
   ]
  },
  {
   "cell_type": "code",
   "execution_count": 91,
   "metadata": {},
   "outputs": [
    {
     "name": "stdout",
     "output_type": "stream",
     "text": [
      "0    110\n",
      "1    123\n",
      "2    114\n",
      "3     71\n",
      "4    113\n",
      "Name: total day calls, dtype: int64\n"
     ]
    },
    {
     "data": {
      "text/plain": [
       "2850"
      ]
     },
     "execution_count": 91,
     "metadata": {},
     "output_type": "execute_result"
    }
   ],
   "source": [
    "df_False=df1[df1.churn==False]\n",
    "df_False=df_False['total day calls']\n",
    "print(df_False.head())\n",
    "len(df_False)"
   ]
  },
  {
   "cell_type": "code",
   "execution_count": 92,
   "metadata": {},
   "outputs": [
    {
     "name": "stdout",
     "output_type": "stream",
     "text": [
      "100.28315789473685 19.801156951805503 392.08581663003537\n"
     ]
    }
   ],
   "source": [
    "print(df_False.mean(),df_False.std(),df_False.var(ddof=1))"
   ]
  },
  {
   "cell_type": "code",
   "execution_count": 108,
   "metadata": {},
   "outputs": [
    {
     "data": {
      "text/plain": [
       "139.09"
      ]
     },
     "execution_count": 108,
     "metadata": {},
     "output_type": "execute_result"
    }
   ],
   "source": [
    "x_b_r=1.96*df_False.std()+df_False.mean()\n",
    "round(x_b_r,2)"
   ]
  },
  {
   "cell_type": "code",
   "execution_count": 109,
   "metadata": {},
   "outputs": [
    {
     "data": {
      "text/plain": [
       "61.47"
      ]
     },
     "execution_count": 109,
     "metadata": {},
     "output_type": "execute_result"
    }
   ],
   "source": [
    "x_b_l=-1.96*df_False.std()+df_False.mean()\n",
    "round(x_b_l,2)"
   ]
  },
  {
   "cell_type": "code",
   "execution_count": null,
   "metadata": {},
   "outputs": [],
   "source": [
    "#Сделаем оценку  для z интервала  с помощью функций \n",
    "#from statsmodels.stats.weightstats import _zconfint_generic"
   ]
  },
  {
   "cell_type": "code",
   "execution_count": 96,
   "metadata": {},
   "outputs": [],
   "source": [
    "from statsmodels.stats.weightstats import _zconfint_generic"
   ]
  },
  {
   "cell_type": "code",
   "execution_count": 97,
   "metadata": {},
   "outputs": [
    {
     "data": {
      "text/plain": [
       "(61.47360341697314, 139.09271237250056)"
      ]
     },
     "execution_count": 97,
     "metadata": {},
     "output_type": "execute_result"
    }
   ],
   "source": [
    "_zconfint_generic(df_False.mean(),df_False.std(),0.05,alternative=\"two-sided\")"
   ]
  },
  {
   "cell_type": "code",
   "execution_count": null,
   "metadata": {},
   "outputs": [],
   "source": [
    "#II.II  Для df_True"
   ]
  },
  {
   "cell_type": "code",
   "execution_count": 102,
   "metadata": {},
   "outputs": [
    {
     "name": "stdout",
     "output_type": "stream",
     "text": [
      "10    137\n",
      "15     67\n",
      "21     89\n",
      "33    118\n",
      "41     85\n",
      "Name: total day calls, dtype: int64\n"
     ]
    },
    {
     "data": {
      "text/plain": [
       "483"
      ]
     },
     "execution_count": 102,
     "metadata": {},
     "output_type": "execute_result"
    }
   ],
   "source": [
    "df_True=df1[df1.churn==True]\n",
    "df_True=df_True['total day calls']\n",
    "print(df_True.head())\n",
    "len(df_True)"
   ]
  },
  {
   "cell_type": "code",
   "execution_count": 103,
   "metadata": {},
   "outputs": [
    {
     "name": "stdout",
     "output_type": "stream",
     "text": [
      "101.33540372670808 21.58230721307551 465.79598463957115\n"
     ]
    }
   ],
   "source": [
    "print(df_True.mean(),df_True.std(),df_True.var(ddof=1))"
   ]
  },
  {
   "cell_type": "code",
   "execution_count": 110,
   "metadata": {},
   "outputs": [
    {
     "data": {
      "text/plain": [
       "143.64"
      ]
     },
     "execution_count": 110,
     "metadata": {},
     "output_type": "execute_result"
    }
   ],
   "source": [
    "x_b_r=1.96*df_True.std()+df_True.mean()\n",
    "round(x_b_r,2)"
   ]
  },
  {
   "cell_type": "code",
   "execution_count": 111,
   "metadata": {},
   "outputs": [
    {
     "data": {
      "text/plain": [
       "59.03"
      ]
     },
     "execution_count": 111,
     "metadata": {},
     "output_type": "execute_result"
    }
   ],
   "source": [
    "x_b_l=-1.96*df_True.std()+df_True.mean()\n",
    "round(x_b_l,2)"
   ]
  },
  {
   "cell_type": "code",
   "execution_count": null,
   "metadata": {},
   "outputs": [],
   "source": [
    "#Сделаем оценку для z интервала  с помощью функций \n",
    "#from statsmodels.stats.weightstats import _zconfint_generic"
   ]
  },
  {
   "cell_type": "code",
   "execution_count": 106,
   "metadata": {},
   "outputs": [],
   "source": [
    "from statsmodels.stats.weightstats import _zconfint_generic"
   ]
  },
  {
   "cell_type": "code",
   "execution_count": 107,
   "metadata": {},
   "outputs": [
    {
     "data": {
      "text/plain": [
       "(59.03485888580106, 143.63594856761512)"
      ]
     },
     "execution_count": 107,
     "metadata": {},
     "output_type": "execute_result"
    }
   ],
   "source": [
    "_zconfint_generic(df_True.mean(),df_True.std(),0.05,alternative=\"two-sided\")"
   ]
  },
  {
   "cell_type": "code",
   "execution_count": null,
   "metadata": {},
   "outputs": [],
   "source": [
    "# Вывод: Данные  z интервала, расчитанные  с использованием явной формулы для z интервала и с помощью функций\n",
    "#from statsmodels.stats.weightstats import _zconfint_generic совпадают. "
   ]
  },
  {
   "cell_type": "code",
   "execution_count": null,
   "metadata": {},
   "outputs": [],
   "source": []
  },
  {
   "cell_type": "code",
   "execution_count": null,
   "metadata": {},
   "outputs": [],
   "source": []
  }
 ],
 "metadata": {
  "colab": {
   "collapsed_sections": [],
   "name": "Практика к занятию 12.ipynb",
   "provenance": []
  },
  "kernelspec": {
   "display_name": "Python 3",
   "language": "python",
   "name": "python3"
  },
  "language_info": {
   "codemirror_mode": {
    "name": "ipython",
    "version": 3
   },
   "file_extension": ".py",
   "mimetype": "text/x-python",
   "name": "python",
   "nbconvert_exporter": "python",
   "pygments_lexer": "ipython3",
   "version": "3.7.4"
  }
 },
 "nbformat": 4,
 "nbformat_minor": 1
}
